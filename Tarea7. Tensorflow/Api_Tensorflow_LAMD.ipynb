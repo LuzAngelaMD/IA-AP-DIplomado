{
 "cells": [
  {
   "cell_type": "markdown",
   "id": "e49f5634",
   "metadata": {},
   "source": [
    "# API tf.data de Tensorflow, para hacer el entubamiento de datos\n",
    "\n",
    "Entregable: Un cuaderno en donde ustedes harán el entubamiento de un conjunto de datos asociado a su proyecto. Para este, ustedes revisan el segundo cuaderno y completan detalles con los enlaces abajo. El entregable es preferiblemente el entubamiento que usted usa o usará en su proyecto."
   ]
  },
  {
   "cell_type": "markdown",
   "id": "b298c62d",
   "metadata": {},
   "source": [
    "## 1. Importar librerías"
   ]
  },
  {
   "cell_type": "code",
   "execution_count": 1,
   "id": "8e6e758c",
   "metadata": {},
   "outputs": [],
   "source": [
    "import tensorflow as tf\n",
    "\n",
    "import pathlib\n",
    "import os\n",
    "import matplotlib.pyplot as plt\n",
    "import pandas as pd\n",
    "import numpy as np\n",
    "\n",
    "np.set_printoptions(precision=4)"
   ]
  },
  {
   "cell_type": "markdown",
   "id": "00572d28",
   "metadata": {},
   "source": [
    "## 2. Carga de datos"
   ]
  },
  {
   "cell_type": "code",
   "execution_count": 2,
   "id": "c53261de",
   "metadata": {},
   "outputs": [],
   "source": [
    "#cargamos los datos de entrada - forma 1\n",
    "cierre_2019 = tf.keras.utils.get_file(\"cierre_2019\", \"http://infosiap.siap.gob.mx/gobmx/datosAbiertos.php/cierre_2019.csv\")\n"
   ]
  },
  {
   "cell_type": "code",
   "execution_count": 3,
   "id": "8b3ec032",
   "metadata": {},
   "outputs": [
    {
     "data": {
      "text/html": [
       "<div>\n",
       "<style scoped>\n",
       "    .dataframe tbody tr th:only-of-type {\n",
       "        vertical-align: middle;\n",
       "    }\n",
       "\n",
       "    .dataframe tbody tr th {\n",
       "        vertical-align: top;\n",
       "    }\n",
       "\n",
       "    .dataframe thead th {\n",
       "        text-align: right;\n",
       "    }\n",
       "</style>\n",
       "<table border=\"1\" class=\"dataframe\">\n",
       "  <thead>\n",
       "    <tr style=\"text-align: right;\">\n",
       "      <th></th>\n",
       "      <th>Anio</th>\n",
       "      <th>Cveestado</th>\n",
       "      <th>Nomestado</th>\n",
       "      <th>Cveddr</th>\n",
       "      <th>Nomddr</th>\n",
       "      <th>Cvempio</th>\n",
       "      <th>Nommunicipio</th>\n",
       "      <th>Cveespecie</th>\n",
       "      <th>Nomespecie</th>\n",
       "      <th>Cveproducto</th>\n",
       "      <th>Nomproducto</th>\n",
       "      <th>Volumen</th>\n",
       "      <th>Peso</th>\n",
       "      <th>Precio</th>\n",
       "      <th>Valor</th>\n",
       "      <th>Asacrificado</th>\n",
       "    </tr>\n",
       "  </thead>\n",
       "  <tbody>\n",
       "    <tr>\n",
       "      <th>0</th>\n",
       "      <td>2019</td>\n",
       "      <td>1</td>\n",
       "      <td>Aguascalientes</td>\n",
       "      <td>1</td>\n",
       "      <td>Aguascalientes</td>\n",
       "      <td>1</td>\n",
       "      <td>Aguascalientes</td>\n",
       "      <td>1</td>\n",
       "      <td>Abeja</td>\n",
       "      <td>7</td>\n",
       "      <td>Miel</td>\n",
       "      <td>282.285</td>\n",
       "      <td>0.000</td>\n",
       "      <td>46.50</td>\n",
       "      <td>13127.354</td>\n",
       "      <td>0</td>\n",
       "    </tr>\n",
       "    <tr>\n",
       "      <th>1</th>\n",
       "      <td>2019</td>\n",
       "      <td>1</td>\n",
       "      <td>Aguascalientes</td>\n",
       "      <td>1</td>\n",
       "      <td>Aguascalientes</td>\n",
       "      <td>1</td>\n",
       "      <td>Aguascalientes</td>\n",
       "      <td>3</td>\n",
       "      <td>Ave</td>\n",
       "      <td>1</td>\n",
       "      <td>Carne</td>\n",
       "      <td>116558.913</td>\n",
       "      <td>1.635</td>\n",
       "      <td>30.88</td>\n",
       "      <td>3598847.061</td>\n",
       "      <td>71289855</td>\n",
       "    </tr>\n",
       "    <tr>\n",
       "      <th>2</th>\n",
       "      <td>2019</td>\n",
       "      <td>1</td>\n",
       "      <td>Aguascalientes</td>\n",
       "      <td>1</td>\n",
       "      <td>Aguascalientes</td>\n",
       "      <td>1</td>\n",
       "      <td>Aguascalientes</td>\n",
       "      <td>3</td>\n",
       "      <td>Ave</td>\n",
       "      <td>4</td>\n",
       "      <td>Huevo-plato</td>\n",
       "      <td>2796.698</td>\n",
       "      <td>0.000</td>\n",
       "      <td>22.03</td>\n",
       "      <td>61604.741</td>\n",
       "      <td>0</td>\n",
       "    </tr>\n",
       "    <tr>\n",
       "      <th>3</th>\n",
       "      <td>2019</td>\n",
       "      <td>1</td>\n",
       "      <td>Aguascalientes</td>\n",
       "      <td>1</td>\n",
       "      <td>Aguascalientes</td>\n",
       "      <td>1</td>\n",
       "      <td>Aguascalientes</td>\n",
       "      <td>3</td>\n",
       "      <td>Ave</td>\n",
       "      <td>8</td>\n",
       "      <td>Ganado en pie</td>\n",
       "      <td>152988.029</td>\n",
       "      <td>2.146</td>\n",
       "      <td>20.60</td>\n",
       "      <td>3152051.130</td>\n",
       "      <td>0</td>\n",
       "    </tr>\n",
       "    <tr>\n",
       "      <th>4</th>\n",
       "      <td>2019</td>\n",
       "      <td>1</td>\n",
       "      <td>Aguascalientes</td>\n",
       "      <td>1</td>\n",
       "      <td>Aguascalientes</td>\n",
       "      <td>1</td>\n",
       "      <td>Aguascalientes</td>\n",
       "      <td>4</td>\n",
       "      <td>Bovino</td>\n",
       "      <td>1</td>\n",
       "      <td>Carne</td>\n",
       "      <td>9884.575</td>\n",
       "      <td>254.954</td>\n",
       "      <td>79.88</td>\n",
       "      <td>789618.181</td>\n",
       "      <td>38770</td>\n",
       "    </tr>\n",
       "  </tbody>\n",
       "</table>\n",
       "</div>"
      ],
      "text/plain": [
       "   Anio  Cveestado       Nomestado  Cveddr          Nomddr  Cvempio  \\\n",
       "0  2019          1  Aguascalientes       1  Aguascalientes        1   \n",
       "1  2019          1  Aguascalientes       1  Aguascalientes        1   \n",
       "2  2019          1  Aguascalientes       1  Aguascalientes        1   \n",
       "3  2019          1  Aguascalientes       1  Aguascalientes        1   \n",
       "4  2019          1  Aguascalientes       1  Aguascalientes        1   \n",
       "\n",
       "     Nommunicipio  Cveespecie Nomespecie  Cveproducto    Nomproducto  \\\n",
       "0  Aguascalientes           1      Abeja            7           Miel   \n",
       "1  Aguascalientes           3        Ave            1          Carne   \n",
       "2  Aguascalientes           3        Ave            4    Huevo-plato   \n",
       "3  Aguascalientes           3        Ave            8  Ganado en pie   \n",
       "4  Aguascalientes           4     Bovino            1          Carne   \n",
       "\n",
       "      Volumen     Peso  Precio        Valor  Asacrificado  \n",
       "0     282.285    0.000   46.50    13127.354             0  \n",
       "1  116558.913    1.635   30.88  3598847.061      71289855  \n",
       "2    2796.698    0.000   22.03    61604.741             0  \n",
       "3  152988.029    2.146   20.60  3152051.130             0  \n",
       "4    9884.575  254.954   79.88   789618.181         38770  "
      ]
     },
     "execution_count": 3,
     "metadata": {},
     "output_type": "execute_result"
    }
   ],
   "source": [
    "#cargamos los datos de entrada - forma 2\n",
    "df = pd.read_csv(\"cierre_2019.csv\")\n",
    "df.head()"
   ]
  },
  {
   "cell_type": "code",
   "execution_count": 4,
   "id": "2f70898e",
   "metadata": {},
   "outputs": [
    {
     "data": {
      "text/plain": [
       "(33491, 16)"
      ]
     },
     "execution_count": 4,
     "metadata": {},
     "output_type": "execute_result"
    }
   ],
   "source": [
    "#veamos cuantas dimensiones y registros contiene\n",
    "df.shape"
   ]
  },
  {
   "cell_type": "markdown",
   "id": "4146c88f",
   "metadata": {},
   "source": [
    " ## 3. Transformación a diccionario"
   ]
  },
  {
   "cell_type": "code",
   "execution_count": 5,
   "id": "e0720cd5",
   "metadata": {},
   "outputs": [
    {
     "name": "stdout",
     "output_type": "stream",
     "text": [
      "  'Anio'              : 2019\n",
      "  'Cveestado'         : 1\n",
      "  'Nomestado'         : b'Aguascalientes'\n",
      "  'Cveddr'            : 1\n",
      "  'Nomddr'            : b'Aguascalientes'\n",
      "  'Cvempio'           : 1\n",
      "  'Nommunicipio'      : b'Aguascalientes'\n",
      "  'Cveespecie'        : 1\n",
      "  'Nomespecie'        : b'Abeja'\n",
      "  'Cveproducto'       : 7\n",
      "  'Nomproducto'       : b'Miel'\n",
      "  'Volumen'           : 282.285\n",
      "  'Peso'              : 0.0\n",
      "  'Precio'            : 46.5\n",
      "  'Valor'             : 13127.354\n",
      "  'Asacrificado'      : 0\n"
     ]
    }
   ],
   "source": [
    "#transformar a diccionario el Dataframe\n",
    "cierre_slices = tf.data.Dataset.from_tensor_slices(dict(df))\n",
    "\n",
    "for feature_batch in cierre_slices.take(1):\n",
    "  for key, value in feature_batch.items():\n",
    "    print(\"  {!r:20s}: {}\".format(key, value))"
   ]
  }
 ],
 "metadata": {
  "kernelspec": {
   "display_name": "Python 3",
   "language": "python",
   "name": "python3"
  },
  "language_info": {
   "codemirror_mode": {
    "name": "ipython",
    "version": 3
   },
   "file_extension": ".py",
   "mimetype": "text/x-python",
   "name": "python",
   "nbconvert_exporter": "python",
   "pygments_lexer": "ipython3",
   "version": "3.8.8"
  }
 },
 "nbformat": 4,
 "nbformat_minor": 5
}
