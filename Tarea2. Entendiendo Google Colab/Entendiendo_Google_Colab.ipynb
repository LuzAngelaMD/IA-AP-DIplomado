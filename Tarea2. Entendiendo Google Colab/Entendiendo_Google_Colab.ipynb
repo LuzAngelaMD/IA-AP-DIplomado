{
 "cells": [
  {
   "cell_type": "markdown",
   "metadata": {
    "id": "MdIyZLpbLGek"
   },
   "source": [
    "# **Google Colab**\r\n",
    "\r\n",
    "Es una alternativa gratuita y en la nube, que permite entrenar un modelo cientos e incluso miles de veces más rápido que un computador convencional \r\n",
    "\r\n",
    "A continuación una breve explicación de lo que CPU, GPU y TPU:"
   ]
  },
  {
   "cell_type": "markdown",
   "metadata": {
    "id": "oHZYytw1MBDD"
   },
   "source": [
    "## **1. CPU**\r\n",
    "\r\n",
    "La unidad central de procesamiento (conocida por las siglas CPU, del inglés: Central Processing Unit) es un procesador de propósito general que está diseñado para funcionar diferentes tipos de aplicaciones, se puede ejecutar un programa de pc, jugar un videojuego, reproducir música o realizar operaciones matemáticas.\r\n",
    "\r\n",
    "***La CPU no es la adecuada desarrollaar modelos Deep Learning***\r\n",
    "\r\n",
    "![CPU](https://concepto.de/wp-content/uploads/2014/08/CPU-e1551228076500.jpg)\r\n",
    "\r\n",
    "\r\n",
    "## **2. GPU**\r\n",
    "\r\n",
    "\"Una unidad de procesamiento gráfico o GPU (graphics processing unit) es un coprocesador dedicado al procesamiento de gráficos u operaciones de coma flotante, para aligerar la carga de trabajo del procesador central en aplicaciones como los videojuegos o aplicaciones 3D interactivas. De esta forma, mientras gran parte de lo relacionado con los gráficos se procesa en la GPU, la unidad central de procesamiento (CPU) puede dedicarse a otro tipo de cálculos (como la inteligencia artificial o los cálculos mecánicos en el caso de los videojuegos).\r\n",
    "\r\n",
    "La GPU implementa ciertas operaciones gráficas llamadas primitivas optimizadas para el procesamiento gráfico. Una de las primitivas más comunes para el procesamiento gráfico en 3D es el antialiasing, que suaviza los bordes de las figuras para darles un aspecto más realista. Adicionalmente existen primitivas para dibujar rectángulos, triángulos, círculos y arcos. Las GPU actualmente disponen de gran cantidad de primitivas, buscando mayor realismo en los efectos.\" \r\n",
    "\r\n",
    "[Texto tomado de Wikipedia](https://es.wikipedia.org/wiki/Unidad_de_procesamiento_gr%C3%A1fico)\r\n",
    "\r\n",
    "***La GPU es más poderosa que la CPU, y actualmente es una de las arquitecturas más utilizadas para desarrollar modelos Deep Learning***. Su desventaja es que sigue siendo de propósito general\r\n",
    "\r\n",
    "![GPU](https://www.eetasia.com/wp-content/uploads/sites/2/2020/06/GPU.jpg)\r\n",
    "\r\n",
    "\r\n",
    "\r\n",
    "## **3. TPU**\r\n",
    "\r\n",
    "\"Cloud Tensor Processing Unit (TPU)\r\n",
    "Las unidades de procesamiento tensorial (TPU) son los circuitos integrados personalizados específicos de aplicaciones (ASIC) de Google que se usan para acelerar las cargas de trabajo de aprendizaje automático. Estas TPU están diseñadas desde cero con el beneficio de la gran experiencia y el liderazgo en aprendizaje automático de Google.\r\n",
    "\r\n",
    "Cloud TPU te permite ejecutar tus cargas de trabajo de aprendizaje automático en el hardware acelerador de TPU de Google mediante TensorFlow. Cloud TPU está diseñada para alcanzar el mayor rendimiento y flexibilidad, y así ayudar a los investigadores, desarrolladores y negocios a compilar clústeres de procesamiento de TensorFlow que puedan aprovechar al máximo las CPU, GPU y TPU. Las API de TensorFlow de alto nivel te ayudan a ejecutar los modelos en el hardware de Cloud TPU.\r\n",
    "\r\n",
    "**Ventajas de las TPU**\r\n",
    "\r\n",
    "Los recursos de Cloud TPU aceleran el rendimiento de los cálculos de álgebra lineal, muy utilizados en las aplicaciones de aprendizaje automático. Las TPU minimizan el tiempo necesario para alcanzar la exactitud cuando entrenas modelos de redes neuronales complejas y extensas. Un modelo que antes tardaba semanas en entrenarse con otras plataformas de hardware ahora puede converger con las TPU en cuestión de horas.\"\r\n",
    "\r\n",
    "[Texto tomado de Cloud Google](https://cloud.google.com/tpu/docs/tpus?hl=es-419)\r\n",
    "\r\n",
    "\r\n",
    "![TPU](https://upload.wikimedia.org/wikipedia/commons/b/be/Tensor_Processing_Unit_3.0.jpg)\r\n",
    "\r\n",
    "![Cloud TPU](https://cloud.google.com/images/products/tpu/google-cloud-ai.png?hl=es-419)\r\n",
    "\r\n"
   ]
  }
 ],
 "metadata": {
  "colab": {
   "name": "Entendiendo Google Colab.ipynb",
   "provenance": []
  },
  "kernelspec": {
   "display_name": "Python 3",
   "language": "python",
   "name": "python3"
  },
  "language_info": {
   "codemirror_mode": {
    "name": "ipython",
    "version": 3
   },
   "file_extension": ".py",
   "mimetype": "text/x-python",
   "name": "python",
   "nbconvert_exporter": "python",
   "pygments_lexer": "ipython3",
   "version": "3.8.5"
  }
 },
 "nbformat": 4,
 "nbformat_minor": 4
}
