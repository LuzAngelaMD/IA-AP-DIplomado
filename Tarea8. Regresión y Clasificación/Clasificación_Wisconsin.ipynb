{
 "cells": [
  {
   "cell_type": "markdown",
   "id": "cc312c03",
   "metadata": {},
   "source": [
    "# Regresión y clasificación\n",
    "\n",
    "## Clasificación\n",
    "\n",
    "Entregable: Construir una red neuronal de clasificación binaria para predecir el cáncer de seno. Use los datos Breast Cancer Wisconsin. Los datos los puede encontrar en el enlace de Kaggle."
   ]
  },
  {
   "cell_type": "markdown",
   "id": "988bd18f",
   "metadata": {},
   "source": [
    "## 1. Importar librerías"
   ]
  },
  {
   "cell_type": "code",
   "execution_count": 1,
   "id": "155111d9",
   "metadata": {},
   "outputs": [],
   "source": [
    "from __future__ import absolute_import, division, print_function, unicode_literals\n",
    "#\n",
    "import pandas as pd\n",
    "import matplotlib.pyplot as plt\n",
    "import seaborn as sns\n",
    "import tensorflow as tf\n",
    "#\n",
    "from tensorflow.keras.models import Sequential\n",
    "#\n",
    "from tensorflow.keras.layers import Dense, Dropout\n",
    "#\n",
    "from tensorflow.keras.utils import plot_model\n",
    "#\n",
    "from sklearn.preprocessing import LabelEncoder\n",
    "from sklearn.model_selection import train_test_split\n",
    "from sklearn.preprocessing import StandardScaler\n",
    "from sklearn.metrics import confusion_matrix"
   ]
  },
  {
   "cell_type": "markdown",
   "id": "8592aaaf",
   "metadata": {},
   "source": [
    "## 2. Carga de datos"
   ]
  },
  {
   "cell_type": "code",
   "execution_count": 2,
   "id": "43559b32",
   "metadata": {},
   "outputs": [
    {
     "data": {
      "text/html": [
       "<div>\n",
       "<style scoped>\n",
       "    .dataframe tbody tr th:only-of-type {\n",
       "        vertical-align: middle;\n",
       "    }\n",
       "\n",
       "    .dataframe tbody tr th {\n",
       "        vertical-align: top;\n",
       "    }\n",
       "\n",
       "    .dataframe thead th {\n",
       "        text-align: right;\n",
       "    }\n",
       "</style>\n",
       "<table border=\"1\" class=\"dataframe\">\n",
       "  <thead>\n",
       "    <tr style=\"text-align: right;\">\n",
       "      <th></th>\n",
       "      <th>id</th>\n",
       "      <th>diagnosis</th>\n",
       "      <th>radius_mean</th>\n",
       "      <th>texture_mean</th>\n",
       "      <th>perimeter_mean</th>\n",
       "      <th>area_mean</th>\n",
       "      <th>smoothness_mean</th>\n",
       "      <th>compactness_mean</th>\n",
       "      <th>concavity_mean</th>\n",
       "      <th>concave points_mean</th>\n",
       "      <th>...</th>\n",
       "      <th>radius_worst</th>\n",
       "      <th>texture_worst</th>\n",
       "      <th>perimeter_worst</th>\n",
       "      <th>area_worst</th>\n",
       "      <th>smoothness_worst</th>\n",
       "      <th>compactness_worst</th>\n",
       "      <th>concavity_worst</th>\n",
       "      <th>concave points_worst</th>\n",
       "      <th>symmetry_worst</th>\n",
       "      <th>fractal_dimension_worst</th>\n",
       "    </tr>\n",
       "  </thead>\n",
       "  <tbody>\n",
       "    <tr>\n",
       "      <th>0</th>\n",
       "      <td>842302</td>\n",
       "      <td>M</td>\n",
       "      <td>17.99</td>\n",
       "      <td>10.38</td>\n",
       "      <td>122.80</td>\n",
       "      <td>1001.0</td>\n",
       "      <td>0.11840</td>\n",
       "      <td>0.27760</td>\n",
       "      <td>0.3001</td>\n",
       "      <td>0.14710</td>\n",
       "      <td>...</td>\n",
       "      <td>25.38</td>\n",
       "      <td>17.33</td>\n",
       "      <td>184.60</td>\n",
       "      <td>2019.0</td>\n",
       "      <td>0.1622</td>\n",
       "      <td>0.6656</td>\n",
       "      <td>0.7119</td>\n",
       "      <td>0.2654</td>\n",
       "      <td>0.4601</td>\n",
       "      <td>0.11890</td>\n",
       "    </tr>\n",
       "    <tr>\n",
       "      <th>1</th>\n",
       "      <td>842517</td>\n",
       "      <td>M</td>\n",
       "      <td>20.57</td>\n",
       "      <td>17.77</td>\n",
       "      <td>132.90</td>\n",
       "      <td>1326.0</td>\n",
       "      <td>0.08474</td>\n",
       "      <td>0.07864</td>\n",
       "      <td>0.0869</td>\n",
       "      <td>0.07017</td>\n",
       "      <td>...</td>\n",
       "      <td>24.99</td>\n",
       "      <td>23.41</td>\n",
       "      <td>158.80</td>\n",
       "      <td>1956.0</td>\n",
       "      <td>0.1238</td>\n",
       "      <td>0.1866</td>\n",
       "      <td>0.2416</td>\n",
       "      <td>0.1860</td>\n",
       "      <td>0.2750</td>\n",
       "      <td>0.08902</td>\n",
       "    </tr>\n",
       "    <tr>\n",
       "      <th>2</th>\n",
       "      <td>84300903</td>\n",
       "      <td>M</td>\n",
       "      <td>19.69</td>\n",
       "      <td>21.25</td>\n",
       "      <td>130.00</td>\n",
       "      <td>1203.0</td>\n",
       "      <td>0.10960</td>\n",
       "      <td>0.15990</td>\n",
       "      <td>0.1974</td>\n",
       "      <td>0.12790</td>\n",
       "      <td>...</td>\n",
       "      <td>23.57</td>\n",
       "      <td>25.53</td>\n",
       "      <td>152.50</td>\n",
       "      <td>1709.0</td>\n",
       "      <td>0.1444</td>\n",
       "      <td>0.4245</td>\n",
       "      <td>0.4504</td>\n",
       "      <td>0.2430</td>\n",
       "      <td>0.3613</td>\n",
       "      <td>0.08758</td>\n",
       "    </tr>\n",
       "    <tr>\n",
       "      <th>3</th>\n",
       "      <td>84348301</td>\n",
       "      <td>M</td>\n",
       "      <td>11.42</td>\n",
       "      <td>20.38</td>\n",
       "      <td>77.58</td>\n",
       "      <td>386.1</td>\n",
       "      <td>0.14250</td>\n",
       "      <td>0.28390</td>\n",
       "      <td>0.2414</td>\n",
       "      <td>0.10520</td>\n",
       "      <td>...</td>\n",
       "      <td>14.91</td>\n",
       "      <td>26.50</td>\n",
       "      <td>98.87</td>\n",
       "      <td>567.7</td>\n",
       "      <td>0.2098</td>\n",
       "      <td>0.8663</td>\n",
       "      <td>0.6869</td>\n",
       "      <td>0.2575</td>\n",
       "      <td>0.6638</td>\n",
       "      <td>0.17300</td>\n",
       "    </tr>\n",
       "    <tr>\n",
       "      <th>4</th>\n",
       "      <td>84358402</td>\n",
       "      <td>M</td>\n",
       "      <td>20.29</td>\n",
       "      <td>14.34</td>\n",
       "      <td>135.10</td>\n",
       "      <td>1297.0</td>\n",
       "      <td>0.10030</td>\n",
       "      <td>0.13280</td>\n",
       "      <td>0.1980</td>\n",
       "      <td>0.10430</td>\n",
       "      <td>...</td>\n",
       "      <td>22.54</td>\n",
       "      <td>16.67</td>\n",
       "      <td>152.20</td>\n",
       "      <td>1575.0</td>\n",
       "      <td>0.1374</td>\n",
       "      <td>0.2050</td>\n",
       "      <td>0.4000</td>\n",
       "      <td>0.1625</td>\n",
       "      <td>0.2364</td>\n",
       "      <td>0.07678</td>\n",
       "    </tr>\n",
       "  </tbody>\n",
       "</table>\n",
       "<p>5 rows × 32 columns</p>\n",
       "</div>"
      ],
      "text/plain": [
       "         id diagnosis  radius_mean  texture_mean  perimeter_mean  area_mean  \\\n",
       "0    842302         M        17.99         10.38          122.80     1001.0   \n",
       "1    842517         M        20.57         17.77          132.90     1326.0   \n",
       "2  84300903         M        19.69         21.25          130.00     1203.0   \n",
       "3  84348301         M        11.42         20.38           77.58      386.1   \n",
       "4  84358402         M        20.29         14.34          135.10     1297.0   \n",
       "\n",
       "   smoothness_mean  compactness_mean  concavity_mean  concave points_mean  \\\n",
       "0          0.11840           0.27760          0.3001              0.14710   \n",
       "1          0.08474           0.07864          0.0869              0.07017   \n",
       "2          0.10960           0.15990          0.1974              0.12790   \n",
       "3          0.14250           0.28390          0.2414              0.10520   \n",
       "4          0.10030           0.13280          0.1980              0.10430   \n",
       "\n",
       "   ...  radius_worst  texture_worst  perimeter_worst  area_worst  \\\n",
       "0  ...         25.38          17.33           184.60      2019.0   \n",
       "1  ...         24.99          23.41           158.80      1956.0   \n",
       "2  ...         23.57          25.53           152.50      1709.0   \n",
       "3  ...         14.91          26.50            98.87       567.7   \n",
       "4  ...         22.54          16.67           152.20      1575.0   \n",
       "\n",
       "   smoothness_worst  compactness_worst  concavity_worst  concave points_worst  \\\n",
       "0            0.1622             0.6656           0.7119                0.2654   \n",
       "1            0.1238             0.1866           0.2416                0.1860   \n",
       "2            0.1444             0.4245           0.4504                0.2430   \n",
       "3            0.2098             0.8663           0.6869                0.2575   \n",
       "4            0.1374             0.2050           0.4000                0.1625   \n",
       "\n",
       "   symmetry_worst  fractal_dimension_worst  \n",
       "0          0.4601                  0.11890  \n",
       "1          0.2750                  0.08902  \n",
       "2          0.3613                  0.08758  \n",
       "3          0.6638                  0.17300  \n",
       "4          0.2364                  0.07678  \n",
       "\n",
       "[5 rows x 32 columns]"
      ]
     },
     "execution_count": 2,
     "metadata": {},
     "output_type": "execute_result"
    }
   ],
   "source": [
    "#cargamos los datos de entrada - forma 2\n",
    "data_w = pd.read_csv(\"wisconsin.csv\")\n",
    "del data_w['Unnamed: 32']\n",
    "data_w.head()"
   ]
  },
  {
   "cell_type": "markdown",
   "id": "2c3c66ce",
   "metadata": {},
   "source": [
    "## 3. Preprocesamiento"
   ]
  },
  {
   "cell_type": "code",
   "execution_count": 3,
   "id": "b14a2be9",
   "metadata": {},
   "outputs": [],
   "source": [
    "x = data_w.iloc[:,2:].values # extrae como tensores numpy\n",
    "y = data_w.iloc[:,1].values"
   ]
  },
  {
   "cell_type": "code",
   "execution_count": 4,
   "id": "63709018",
   "metadata": {},
   "outputs": [],
   "source": [
    "# Recodificación de variable objetivo\n",
    "labelencoder_y = LabelEncoder()\n",
    "y = labelencoder_y.fit_transform(y)"
   ]
  },
  {
   "cell_type": "code",
   "execution_count": 5,
   "id": "19ee1c8a",
   "metadata": {},
   "outputs": [
    {
     "data": {
      "text/plain": [
       "(57, 30)"
      ]
     },
     "execution_count": 5,
     "metadata": {},
     "output_type": "execute_result"
    }
   ],
   "source": [
    "# Datos de entrenamiento y test\n",
    "x_train, x_test, y_train, y_test = train_test_split(x, y, test_size = 0.1, random_state = 0)\n",
    "\n",
    "x_test.shape"
   ]
  },
  {
   "cell_type": "code",
   "execution_count": 6,
   "id": "0de1a4c8",
   "metadata": {},
   "outputs": [],
   "source": [
    "# Normalización de los datos\n",
    "sc = StandardScaler()\n",
    "x_train = sc.fit_transform(x_train)\n",
    "x_test = sc.transform(x_test)"
   ]
  },
  {
   "cell_type": "markdown",
   "id": "0f9e68fd",
   "metadata": {},
   "source": [
    "## 4. Creación del modelo Sequential"
   ]
  },
  {
   "cell_type": "code",
   "execution_count": 7,
   "id": "5c033796",
   "metadata": {},
   "outputs": [],
   "source": [
    "classifier = Sequential()\n",
    "## Adiciona capas una por una\n",
    "classifier.add(Dense(units=16, activation='relu', input_shape=(30,)))\n",
    "# Adding dropout to prevent overfitting (regularización)\n",
    "classifier.add(Dropout(0.1)) # 10% out in each epoc\n",
    "classifier.add(Dense(units=16, activation='relu'))\n",
    "# Adding dropout to prevent overfitting (regularización)\n",
    "classifier.add(Dropout(0.1))\n",
    "classifier.add(Dense(units=1, activation='sigmoid'))"
   ]
  },
  {
   "cell_type": "markdown",
   "id": "11f500be",
   "metadata": {},
   "source": [
    "## 5. Compila"
   ]
  },
  {
   "cell_type": "code",
   "execution_count": 8,
   "id": "782226c1",
   "metadata": {},
   "outputs": [],
   "source": [
    "classifier.compile(optimizer='adam', loss='binary_crossentropy', metrics=['accuracy'])"
   ]
  },
  {
   "cell_type": "code",
   "execution_count": 9,
   "id": "c217a298",
   "metadata": {},
   "outputs": [
    {
     "name": "stdout",
     "output_type": "stream",
     "text": [
      "Model: \"sequential\"\n",
      "_________________________________________________________________\n",
      "Layer (type)                 Output Shape              Param #   \n",
      "=================================================================\n",
      "dense (Dense)                (None, 16)                496       \n",
      "_________________________________________________________________\n",
      "dropout (Dropout)            (None, 16)                0         \n",
      "_________________________________________________________________\n",
      "dense_1 (Dense)              (None, 16)                272       \n",
      "_________________________________________________________________\n",
      "dropout_1 (Dropout)          (None, 16)                0         \n",
      "_________________________________________________________________\n",
      "dense_2 (Dense)              (None, 1)                 17        \n",
      "=================================================================\n",
      "Total params: 785\n",
      "Trainable params: 785\n",
      "Non-trainable params: 0\n",
      "_________________________________________________________________\n"
     ]
    },
    {
     "data": {
      "image/png": "[encoded data removed]",
      "text/plain": [
       "<IPython.core.display.Image object>"
      ]
     },
     "execution_count": 9,
     "metadata": {},
     "output_type": "execute_result"
    }
   ],
   "source": [
    "classifier.summary()\n",
    "plot_model(classifier, to_file='cancer_seno.png', \n",
    "           show_shapes=True)"
   ]
  },
  {
   "cell_type": "markdown",
   "id": "f8724cdb",
   "metadata": {},
   "source": [
    "## 6. Entrenamiento"
   ]
  },
  {
   "cell_type": "code",
   "execution_count": 10,
   "id": "7a7ba63e",
   "metadata": {},
   "outputs": [
    {
     "name": "stdout",
     "output_type": "stream",
     "text": [
      "Epoch 1/150\n",
      "13/13 [==============================] - 4s 174ms/step - loss: 0.6474 - accuracy: 0.6208 - val_loss: 0.5820 - val_accuracy: 0.6796\n",
      "Epoch 2/150\n",
      "13/13 [==============================] - 0s 18ms/step - loss: 0.5585 - accuracy: 0.7291 - val_loss: 0.5026 - val_accuracy: 0.7864\n",
      "Epoch 3/150\n",
      "13/13 [==============================] - 0s 15ms/step - loss: 0.4765 - accuracy: 0.7668 - val_loss: 0.4354 - val_accuracy: 0.8447\n",
      "Epoch 4/150\n",
      "13/13 [==============================] - 0s 19ms/step - loss: 0.4208 - accuracy: 0.8025 - val_loss: 0.3738 - val_accuracy: 0.9126\n",
      "Epoch 5/150\n",
      "13/13 [==============================] - 0s 16ms/step - loss: 0.3467 - accuracy: 0.9046 - val_loss: 0.3197 - val_accuracy: 0.9223\n",
      "Epoch 6/150\n",
      "13/13 [==============================] - 0s 17ms/step - loss: 0.3134 - accuracy: 0.9050 - val_loss: 0.2729 - val_accuracy: 0.9320\n",
      "Epoch 7/150\n",
      "13/13 [==============================] - 0s 13ms/step - loss: 0.2741 - accuracy: 0.9101 - val_loss: 0.2314 - val_accuracy: 0.9417\n",
      "Epoch 8/150\n",
      "13/13 [==============================] - 0s 14ms/step - loss: 0.2333 - accuracy: 0.9299 - val_loss: 0.1995 - val_accuracy: 0.9515\n",
      "Epoch 9/150\n",
      "13/13 [==============================] - 0s 12ms/step - loss: 0.1936 - accuracy: 0.9486 - val_loss: 0.1726 - val_accuracy: 0.9612\n",
      "Epoch 10/150\n",
      "13/13 [==============================] - 0s 15ms/step - loss: 0.1648 - accuracy: 0.9671 - val_loss: 0.1528 - val_accuracy: 0.9709\n",
      "Epoch 11/150\n",
      "13/13 [==============================] - 0s 15ms/step - loss: 0.1344 - accuracy: 0.9753 - val_loss: 0.1363 - val_accuracy: 0.9806\n",
      "Epoch 12/150\n",
      "13/13 [==============================] - 0s 19ms/step - loss: 0.1410 - accuracy: 0.9703 - val_loss: 0.1243 - val_accuracy: 0.9709\n",
      "Epoch 13/150\n",
      "13/13 [==============================] - 0s 17ms/step - loss: 0.1161 - accuracy: 0.9799 - val_loss: 0.1146 - val_accuracy: 0.9709\n",
      "Epoch 14/150\n",
      "13/13 [==============================] - 0s 15ms/step - loss: 0.1229 - accuracy: 0.9582 - val_loss: 0.1066 - val_accuracy: 0.9709\n",
      "Epoch 15/150\n",
      "13/13 [==============================] - 0s 13ms/step - loss: 0.1424 - accuracy: 0.9447 - val_loss: 0.0995 - val_accuracy: 0.9709\n",
      "Epoch 16/150\n",
      "13/13 [==============================] - 0s 13ms/step - loss: 0.0927 - accuracy: 0.9799 - val_loss: 0.0931 - val_accuracy: 0.9709\n",
      "Epoch 17/150\n",
      "13/13 [==============================] - 0s 14ms/step - loss: 0.0863 - accuracy: 0.9783 - val_loss: 0.0879 - val_accuracy: 0.9709\n",
      "Epoch 18/150\n",
      "13/13 [==============================] - 0s 8ms/step - loss: 0.0927 - accuracy: 0.9720 - val_loss: 0.0830 - val_accuracy: 0.9709\n",
      "Epoch 19/150\n",
      "13/13 [==============================] - 0s 9ms/step - loss: 0.0805 - accuracy: 0.9815 - val_loss: 0.0780 - val_accuracy: 0.9709\n",
      "Epoch 20/150\n",
      "13/13 [==============================] - 0s 11ms/step - loss: 0.0923 - accuracy: 0.9677 - val_loss: 0.0738 - val_accuracy: 0.9709\n",
      "Epoch 21/150\n",
      "13/13 [==============================] - 0s 7ms/step - loss: 0.0779 - accuracy: 0.9698 - val_loss: 0.0697 - val_accuracy: 0.9709\n",
      "Epoch 22/150\n",
      "13/13 [==============================] - 0s 11ms/step - loss: 0.0843 - accuracy: 0.9772 - val_loss: 0.0666 - val_accuracy: 0.9709\n",
      "Epoch 23/150\n",
      "13/13 [==============================] - 0s 10ms/step - loss: 0.0765 - accuracy: 0.9730 - val_loss: 0.0638 - val_accuracy: 0.9709\n",
      "Epoch 24/150\n",
      "13/13 [==============================] - 0s 6ms/step - loss: 0.0784 - accuracy: 0.9800 - val_loss: 0.0621 - val_accuracy: 0.9709\n",
      "Epoch 25/150\n",
      "13/13 [==============================] - 0s 8ms/step - loss: 0.0761 - accuracy: 0.9726 - val_loss: 0.0595 - val_accuracy: 0.9709\n",
      "Epoch 26/150\n",
      "13/13 [==============================] - 0s 7ms/step - loss: 0.0900 - accuracy: 0.9650 - val_loss: 0.0583 - val_accuracy: 0.9709\n",
      "Epoch 27/150\n",
      "13/13 [==============================] - 0s 8ms/step - loss: 0.0747 - accuracy: 0.9706 - val_loss: 0.0569 - val_accuracy: 0.9709\n",
      "Epoch 28/150\n",
      "13/13 [==============================] - 0s 7ms/step - loss: 0.0807 - accuracy: 0.9805 - val_loss: 0.0548 - val_accuracy: 0.9709\n",
      "Epoch 29/150\n",
      "13/13 [==============================] - 0s 8ms/step - loss: 0.0674 - accuracy: 0.9858 - val_loss: 0.0522 - val_accuracy: 0.9806\n",
      "Epoch 30/150\n",
      "13/13 [==============================] - 0s 6ms/step - loss: 0.0781 - accuracy: 0.9753 - val_loss: 0.0508 - val_accuracy: 0.9806\n",
      "Epoch 31/150\n",
      "13/13 [==============================] - 0s 7ms/step - loss: 0.0776 - accuracy: 0.9747 - val_loss: 0.0511 - val_accuracy: 0.9806\n",
      "Epoch 32/150\n",
      "13/13 [==============================] - 0s 9ms/step - loss: 0.0624 - accuracy: 0.9778 - val_loss: 0.0493 - val_accuracy: 0.9806\n",
      "Epoch 33/150\n",
      "13/13 [==============================] - 0s 10ms/step - loss: 0.0668 - accuracy: 0.9732 - val_loss: 0.0467 - val_accuracy: 0.9806\n",
      "Epoch 34/150\n",
      "13/13 [==============================] - 0s 9ms/step - loss: 0.0527 - accuracy: 0.9860 - val_loss: 0.0445 - val_accuracy: 0.9806\n",
      "Epoch 35/150\n",
      "13/13 [==============================] - 0s 6ms/step - loss: 0.0633 - accuracy: 0.9826 - val_loss: 0.0440 - val_accuracy: 0.9806\n",
      "Epoch 36/150\n",
      "13/13 [==============================] - 0s 5ms/step - loss: 0.0725 - accuracy: 0.9738 - val_loss: 0.0432 - val_accuracy: 0.9806\n",
      "Epoch 37/150\n",
      "13/13 [==============================] - 0s 5ms/step - loss: 0.0476 - accuracy: 0.9883 - val_loss: 0.0414 - val_accuracy: 0.9806\n",
      "Epoch 38/150\n",
      "13/13 [==============================] - 0s 5ms/step - loss: 0.0541 - accuracy: 0.9809 - val_loss: 0.0411 - val_accuracy: 0.9903\n",
      "Epoch 39/150\n",
      "13/13 [==============================] - 0s 9ms/step - loss: 0.0506 - accuracy: 0.9817 - val_loss: 0.0397 - val_accuracy: 0.9903\n",
      "Epoch 40/150\n",
      "13/13 [==============================] - 0s 10ms/step - loss: 0.0449 - accuracy: 0.9873 - val_loss: 0.0377 - val_accuracy: 0.9903\n",
      "Epoch 41/150\n",
      "13/13 [==============================] - 0s 6ms/step - loss: 0.0830 - accuracy: 0.9723 - val_loss: 0.0375 - val_accuracy: 0.9903\n",
      "Epoch 42/150\n",
      "13/13 [==============================] - 0s 4ms/step - loss: 0.0602 - accuracy: 0.9752 - val_loss: 0.0367 - val_accuracy: 0.9903\n",
      "Epoch 43/150\n",
      "13/13 [==============================] - 0s 6ms/step - loss: 0.0522 - accuracy: 0.9858 - val_loss: 0.0362 - val_accuracy: 0.9903\n",
      "Epoch 44/150\n",
      "13/13 [==============================] - 0s 7ms/step - loss: 0.0517 - accuracy: 0.9796 - val_loss: 0.0361 - val_accuracy: 0.9903\n",
      "Epoch 45/150\n",
      "13/13 [==============================] - 0s 5ms/step - loss: 0.0468 - accuracy: 0.9831 - val_loss: 0.0352 - val_accuracy: 0.9903\n",
      "Epoch 46/150\n",
      "13/13 [==============================] - 0s 5ms/step - loss: 0.0571 - accuracy: 0.9802 - val_loss: 0.0338 - val_accuracy: 0.9903\n",
      "Epoch 47/150\n",
      "13/13 [==============================] - 0s 6ms/step - loss: 0.0448 - accuracy: 0.9893 - val_loss: 0.0327 - val_accuracy: 0.9903\n",
      "Epoch 48/150\n",
      "13/13 [==============================] - 0s 8ms/step - loss: 0.0451 - accuracy: 0.9828 - val_loss: 0.0321 - val_accuracy: 0.9903\n",
      "Epoch 49/150\n",
      "13/13 [==============================] - 0s 8ms/step - loss: 0.0560 - accuracy: 0.9791 - val_loss: 0.0324 - val_accuracy: 0.9903\n",
      "Epoch 50/150\n",
      "13/13 [==============================] - 0s 9ms/step - loss: 0.0466 - accuracy: 0.9785 - val_loss: 0.0311 - val_accuracy: 0.9903\n",
      "Epoch 51/150\n",
      "13/13 [==============================] - 0s 10ms/step - loss: 0.0555 - accuracy: 0.9756 - val_loss: 0.0307 - val_accuracy: 0.9903\n",
      "Epoch 52/150\n",
      "13/13 [==============================] - 0s 9ms/step - loss: 0.0443 - accuracy: 0.9811 - val_loss: 0.0317 - val_accuracy: 0.9903\n",
      "Epoch 53/150\n",
      "13/13 [==============================] - 0s 11ms/step - loss: 0.0600 - accuracy: 0.9771 - val_loss: 0.0323 - val_accuracy: 0.9903\n",
      "Epoch 54/150\n",
      "13/13 [==============================] - 0s 9ms/step - loss: 0.0500 - accuracy: 0.9747 - val_loss: 0.0309 - val_accuracy: 0.9903\n",
      "Epoch 55/150\n",
      "13/13 [==============================] - 0s 8ms/step - loss: 0.0438 - accuracy: 0.9883 - val_loss: 0.0307 - val_accuracy: 0.9903\n",
      "Epoch 56/150\n",
      "13/13 [==============================] - 0s 9ms/step - loss: 0.0585 - accuracy: 0.9827 - val_loss: 0.0311 - val_accuracy: 0.9903\n",
      "Epoch 57/150\n",
      "13/13 [==============================] - 0s 10ms/step - loss: 0.0368 - accuracy: 0.9888 - val_loss: 0.0304 - val_accuracy: 0.9903\n",
      "Epoch 58/150\n",
      "13/13 [==============================] - 0s 12ms/step - loss: 0.0340 - accuracy: 0.9881 - val_loss: 0.0307 - val_accuracy: 0.9903\n",
      "Epoch 59/150\n",
      "13/13 [==============================] - 0s 11ms/step - loss: 0.0394 - accuracy: 0.9874 - val_loss: 0.0301 - val_accuracy: 0.9903\n",
      "Epoch 60/150\n",
      "13/13 [==============================] - 0s 8ms/step - loss: 0.0374 - accuracy: 0.9870 - val_loss: 0.0296 - val_accuracy: 0.9903\n",
      "Epoch 61/150\n",
      "13/13 [==============================] - 0s 9ms/step - loss: 0.0586 - accuracy: 0.9762 - val_loss: 0.0285 - val_accuracy: 0.9903\n",
      "Epoch 62/150\n",
      "13/13 [==============================] - 0s 8ms/step - loss: 0.0595 - accuracy: 0.9827 - val_loss: 0.0295 - val_accuracy: 0.9903\n",
      "Epoch 63/150\n",
      "13/13 [==============================] - 0s 9ms/step - loss: 0.0360 - accuracy: 0.9895 - val_loss: 0.0285 - val_accuracy: 0.9903\n",
      "Epoch 64/150\n",
      "13/13 [==============================] - 0s 8ms/step - loss: 0.0530 - accuracy: 0.9800 - val_loss: 0.0279 - val_accuracy: 0.9903\n",
      "Epoch 65/150\n",
      "13/13 [==============================] - 0s 8ms/step - loss: 0.0554 - accuracy: 0.9800 - val_loss: 0.0271 - val_accuracy: 0.9903\n",
      "Epoch 66/150\n",
      "13/13 [==============================] - 0s 8ms/step - loss: 0.0376 - accuracy: 0.9930 - val_loss: 0.0263 - val_accuracy: 0.9903\n",
      "Epoch 67/150\n",
      "13/13 [==============================] - 0s 8ms/step - loss: 0.0314 - accuracy: 0.9897 - val_loss: 0.0268 - val_accuracy: 0.9903\n",
      "Epoch 68/150\n",
      "13/13 [==============================] - 0s 10ms/step - loss: 0.0445 - accuracy: 0.9894 - val_loss: 0.0269 - val_accuracy: 0.9903\n",
      "Epoch 69/150\n",
      "13/13 [==============================] - 0s 12ms/step - loss: 0.0658 - accuracy: 0.9711 - val_loss: 0.0265 - val_accuracy: 0.9903\n",
      "Epoch 70/150\n",
      "13/13 [==============================] - 0s 6ms/step - loss: 0.0546 - accuracy: 0.9748 - val_loss: 0.0263 - val_accuracy: 0.9903\n",
      "Epoch 71/150\n",
      "13/13 [==============================] - 0s 5ms/step - loss: 0.0401 - accuracy: 0.9817 - val_loss: 0.0247 - val_accuracy: 0.9903\n",
      "Epoch 72/150\n",
      "13/13 [==============================] - 0s 5ms/step - loss: 0.0562 - accuracy: 0.9811 - val_loss: 0.0248 - val_accuracy: 0.9903\n",
      "Epoch 73/150\n",
      "13/13 [==============================] - 0s 8ms/step - loss: 0.0397 - accuracy: 0.9872 - val_loss: 0.0244 - val_accuracy: 0.9903\n",
      "Epoch 74/150\n",
      "13/13 [==============================] - 0s 9ms/step - loss: 0.0400 - accuracy: 0.9854 - val_loss: 0.0243 - val_accuracy: 0.9903\n",
      "Epoch 75/150\n",
      "13/13 [==============================] - 0s 8ms/step - loss: 0.0325 - accuracy: 0.9872 - val_loss: 0.0243 - val_accuracy: 0.9903\n",
      "Epoch 76/150\n",
      "13/13 [==============================] - 0s 9ms/step - loss: 0.0431 - accuracy: 0.9925 - val_loss: 0.0236 - val_accuracy: 0.9903\n",
      "Epoch 77/150\n",
      "13/13 [==============================] - 0s 8ms/step - loss: 0.0317 - accuracy: 0.9870 - val_loss: 0.0237 - val_accuracy: 0.9903\n",
      "Epoch 78/150\n",
      "13/13 [==============================] - 0s 10ms/step - loss: 0.0290 - accuracy: 0.9928 - val_loss: 0.0236 - val_accuracy: 0.9903\n",
      "Epoch 79/150\n",
      "13/13 [==============================] - 0s 9ms/step - loss: 0.0242 - accuracy: 0.9966 - val_loss: 0.0230 - val_accuracy: 0.9903\n",
      "Epoch 80/150\n",
      "13/13 [==============================] - 0s 8ms/step - loss: 0.0232 - accuracy: 0.9947 - val_loss: 0.0224 - val_accuracy: 0.9903\n",
      "Epoch 81/150\n",
      "13/13 [==============================] - 0s 12ms/step - loss: 0.0336 - accuracy: 0.9800 - val_loss: 0.0222 - val_accuracy: 0.9903\n",
      "Epoch 82/150\n",
      "13/13 [==============================] - 0s 11ms/step - loss: 0.0345 - accuracy: 0.9911 - val_loss: 0.0219 - val_accuracy: 0.9903\n",
      "Epoch 83/150\n",
      "13/13 [==============================] - 0s 11ms/step - loss: 0.0452 - accuracy: 0.9778 - val_loss: 0.0221 - val_accuracy: 0.9903\n",
      "Epoch 84/150\n",
      "13/13 [==============================] - 0s 7ms/step - loss: 0.0472 - accuracy: 0.9801 - val_loss: 0.0219 - val_accuracy: 0.9903\n",
      "Epoch 85/150\n",
      "13/13 [==============================] - 0s 11ms/step - loss: 0.0357 - accuracy: 0.9850 - val_loss: 0.0216 - val_accuracy: 0.9903\n",
      "Epoch 86/150\n",
      "13/13 [==============================] - 0s 9ms/step - loss: 0.0300 - accuracy: 0.9932 - val_loss: 0.0219 - val_accuracy: 0.9903\n",
      "Epoch 87/150\n",
      "13/13 [==============================] - 0s 14ms/step - loss: 0.0274 - accuracy: 0.9909 - val_loss: 0.0231 - val_accuracy: 0.9903\n",
      "Epoch 88/150\n",
      "13/13 [==============================] - 0s 7ms/step - loss: 0.0314 - accuracy: 0.9889 - val_loss: 0.0238 - val_accuracy: 0.9903\n",
      "Epoch 89/150\n",
      "13/13 [==============================] - 0s 12ms/step - loss: 0.0272 - accuracy: 0.9914 - val_loss: 0.0231 - val_accuracy: 0.9903\n",
      "Epoch 90/150\n",
      "13/13 [==============================] - 0s 14ms/step - loss: 0.0448 - accuracy: 0.9827 - val_loss: 0.0237 - val_accuracy: 0.9903\n",
      "Epoch 91/150\n",
      "13/13 [==============================] - 0s 7ms/step - loss: 0.0296 - accuracy: 0.9883 - val_loss: 0.0225 - val_accuracy: 0.9903\n",
      "Epoch 92/150\n",
      "13/13 [==============================] - 0s 8ms/step - loss: 0.0232 - accuracy: 0.9940 - val_loss: 0.0221 - val_accuracy: 0.9903\n",
      "Epoch 93/150\n",
      "13/13 [==============================] - 0s 10ms/step - loss: 0.0313 - accuracy: 0.9825 - val_loss: 0.0216 - val_accuracy: 0.9903\n",
      "Epoch 94/150\n",
      "13/13 [==============================] - 0s 12ms/step - loss: 0.0206 - accuracy: 0.9951 - val_loss: 0.0213 - val_accuracy: 0.9903\n",
      "Epoch 95/150\n",
      "13/13 [==============================] - 0s 9ms/step - loss: 0.0343 - accuracy: 0.9889 - val_loss: 0.0210 - val_accuracy: 0.9903\n",
      "Epoch 96/150\n",
      "13/13 [==============================] - 0s 9ms/step - loss: 0.0256 - accuracy: 0.9905 - val_loss: 0.0208 - val_accuracy: 0.9903\n",
      "Epoch 97/150\n",
      "13/13 [==============================] - 0s 8ms/step - loss: 0.0324 - accuracy: 0.9943 - val_loss: 0.0207 - val_accuracy: 0.9903\n",
      "Epoch 98/150\n",
      "13/13 [==============================] - 0s 14ms/step - loss: 0.0188 - accuracy: 0.9984 - val_loss: 0.0201 - val_accuracy: 0.9903\n",
      "Epoch 99/150\n",
      "13/13 [==============================] - 0s 7ms/step - loss: 0.0297 - accuracy: 0.9928 - val_loss: 0.0206 - val_accuracy: 0.9903\n",
      "Epoch 100/150\n",
      "13/13 [==============================] - 0s 7ms/step - loss: 0.0201 - accuracy: 0.9965 - val_loss: 0.0215 - val_accuracy: 0.9903\n",
      "Epoch 101/150\n",
      "13/13 [==============================] - 0s 7ms/step - loss: 0.0304 - accuracy: 0.9860 - val_loss: 0.0196 - val_accuracy: 0.9903\n",
      "Epoch 102/150\n",
      "13/13 [==============================] - 0s 13ms/step - loss: 0.0259 - accuracy: 0.9939 - val_loss: 0.0186 - val_accuracy: 0.9903\n",
      "Epoch 103/150\n",
      "13/13 [==============================] - 0s 10ms/step - loss: 0.0347 - accuracy: 0.9910 - val_loss: 0.0190 - val_accuracy: 0.9903\n",
      "Epoch 104/150\n",
      "13/13 [==============================] - 0s 9ms/step - loss: 0.0221 - accuracy: 0.9945 - val_loss: 0.0186 - val_accuracy: 0.9903\n",
      "Epoch 105/150\n",
      "13/13 [==============================] - 0s 9ms/step - loss: 0.0241 - accuracy: 0.9937 - val_loss: 0.0189 - val_accuracy: 0.9903\n",
      "Epoch 106/150\n",
      "13/13 [==============================] - 0s 9ms/step - loss: 0.0203 - accuracy: 0.9964 - val_loss: 0.0198 - val_accuracy: 0.9903\n",
      "Epoch 107/150\n",
      "13/13 [==============================] - 0s 10ms/step - loss: 0.0205 - accuracy: 0.9912 - val_loss: 0.0214 - val_accuracy: 0.9903\n",
      "Epoch 108/150\n",
      "13/13 [==============================] - 0s 9ms/step - loss: 0.0191 - accuracy: 0.9939 - val_loss: 0.0206 - val_accuracy: 0.9903\n",
      "Epoch 109/150\n",
      "13/13 [==============================] - 0s 8ms/step - loss: 0.0233 - accuracy: 0.9927 - val_loss: 0.0185 - val_accuracy: 0.9903\n",
      "Epoch 110/150\n",
      "13/13 [==============================] - 0s 9ms/step - loss: 0.0202 - accuracy: 0.9963 - val_loss: 0.0178 - val_accuracy: 0.9903\n",
      "Epoch 111/150\n",
      "13/13 [==============================] - 0s 10ms/step - loss: 0.0230 - accuracy: 0.9946 - val_loss: 0.0181 - val_accuracy: 0.9903\n",
      "Epoch 112/150\n",
      "13/13 [==============================] - 0s 10ms/step - loss: 0.0186 - accuracy: 0.9933 - val_loss: 0.0180 - val_accuracy: 0.9903\n",
      "Epoch 113/150\n",
      "13/13 [==============================] - 0s 9ms/step - loss: 0.0262 - accuracy: 0.9877 - val_loss: 0.0180 - val_accuracy: 0.9903\n",
      "Epoch 114/150\n",
      "13/13 [==============================] - 0s 8ms/step - loss: 0.0271 - accuracy: 0.9894 - val_loss: 0.0176 - val_accuracy: 0.9903\n",
      "Epoch 115/150\n",
      "13/13 [==============================] - 0s 6ms/step - loss: 0.0214 - accuracy: 0.9927 - val_loss: 0.0171 - val_accuracy: 0.9903\n",
      "Epoch 116/150\n",
      "13/13 [==============================] - 0s 7ms/step - loss: 0.0295 - accuracy: 0.9909 - val_loss: 0.0169 - val_accuracy: 0.9903\n",
      "Epoch 117/150\n",
      "13/13 [==============================] - 0s 9ms/step - loss: 0.0196 - accuracy: 0.9930 - val_loss: 0.0168 - val_accuracy: 0.9903\n",
      "Epoch 118/150\n",
      "13/13 [==============================] - 0s 7ms/step - loss: 0.0280 - accuracy: 0.9918 - val_loss: 0.0162 - val_accuracy: 0.9903\n",
      "Epoch 119/150\n",
      "13/13 [==============================] - 0s 9ms/step - loss: 0.0176 - accuracy: 0.9987 - val_loss: 0.0155 - val_accuracy: 0.9903\n",
      "Epoch 120/150\n",
      "13/13 [==============================] - 0s 16ms/step - loss: 0.0225 - accuracy: 0.9908 - val_loss: 0.0156 - val_accuracy: 0.9903\n",
      "Epoch 121/150\n",
      "13/13 [==============================] - 0s 13ms/step - loss: 0.0199 - accuracy: 0.9960 - val_loss: 0.0156 - val_accuracy: 0.9903\n",
      "Epoch 122/150\n",
      "13/13 [==============================] - 0s 9ms/step - loss: 0.0233 - accuracy: 0.9997 - val_loss: 0.0156 - val_accuracy: 0.9903\n",
      "Epoch 123/150\n",
      "13/13 [==============================] - 0s 7ms/step - loss: 0.0178 - accuracy: 0.9941 - val_loss: 0.0153 - val_accuracy: 0.9903\n",
      "Epoch 124/150\n",
      "13/13 [==============================] - 0s 7ms/step - loss: 0.0210 - accuracy: 0.9957 - val_loss: 0.0149 - val_accuracy: 0.9903\n",
      "Epoch 125/150\n",
      "13/13 [==============================] - 0s 9ms/step - loss: 0.0151 - accuracy: 0.9910 - val_loss: 0.0148 - val_accuracy: 0.9903\n",
      "Epoch 126/150\n",
      "13/13 [==============================] - 0s 6ms/step - loss: 0.0169 - accuracy: 0.9995 - val_loss: 0.0148 - val_accuracy: 0.9903\n",
      "Epoch 127/150\n",
      "13/13 [==============================] - 0s 8ms/step - loss: 0.0231 - accuracy: 0.9921 - val_loss: 0.0146 - val_accuracy: 0.9903\n",
      "Epoch 128/150\n",
      "13/13 [==============================] - 0s 6ms/step - loss: 0.0339 - accuracy: 0.9922 - val_loss: 0.0150 - val_accuracy: 0.9903\n",
      "Epoch 129/150\n",
      "13/13 [==============================] - 0s 11ms/step - loss: 0.0261 - accuracy: 0.9952 - val_loss: 0.0140 - val_accuracy: 0.9903\n",
      "Epoch 130/150\n",
      "13/13 [==============================] - 0s 8ms/step - loss: 0.0203 - accuracy: 0.9905 - val_loss: 0.0144 - val_accuracy: 0.9903\n",
      "Epoch 131/150\n",
      "13/13 [==============================] - 0s 7ms/step - loss: 0.0211 - accuracy: 0.9935 - val_loss: 0.0146 - val_accuracy: 0.9903\n",
      "Epoch 132/150\n",
      "13/13 [==============================] - 0s 7ms/step - loss: 0.0169 - accuracy: 0.9965 - val_loss: 0.0140 - val_accuracy: 0.9903\n",
      "Epoch 133/150\n",
      "13/13 [==============================] - 0s 8ms/step - loss: 0.0193 - accuracy: 0.9937 - val_loss: 0.0137 - val_accuracy: 0.9903\n",
      "Epoch 134/150\n",
      "13/13 [==============================] - 0s 6ms/step - loss: 0.0287 - accuracy: 0.9865 - val_loss: 0.0132 - val_accuracy: 0.9903\n",
      "Epoch 135/150\n",
      "13/13 [==============================] - 0s 7ms/step - loss: 0.0157 - accuracy: 0.9960 - val_loss: 0.0136 - val_accuracy: 0.9903\n",
      "Epoch 136/150\n",
      "13/13 [==============================] - 0s 6ms/step - loss: 0.0138 - accuracy: 0.9960 - val_loss: 0.0135 - val_accuracy: 0.9903\n",
      "Epoch 137/150\n",
      "13/13 [==============================] - 0s 6ms/step - loss: 0.0177 - accuracy: 0.9925 - val_loss: 0.0142 - val_accuracy: 0.9903\n",
      "Epoch 138/150\n",
      "13/13 [==============================] - 0s 7ms/step - loss: 0.0197 - accuracy: 0.9982 - val_loss: 0.0144 - val_accuracy: 0.9903\n",
      "Epoch 139/150\n",
      "13/13 [==============================] - 0s 8ms/step - loss: 0.0282 - accuracy: 0.9927 - val_loss: 0.0138 - val_accuracy: 0.9903\n",
      "Epoch 140/150\n",
      "13/13 [==============================] - 0s 12ms/step - loss: 0.0197 - accuracy: 0.9927 - val_loss: 0.0134 - val_accuracy: 0.9903\n",
      "Epoch 141/150\n",
      "13/13 [==============================] - 0s 6ms/step - loss: 0.0117 - accuracy: 0.9988 - val_loss: 0.0124 - val_accuracy: 0.9903\n",
      "Epoch 142/150\n",
      "13/13 [==============================] - 0s 5ms/step - loss: 0.0193 - accuracy: 0.9905 - val_loss: 0.0133 - val_accuracy: 0.9903\n",
      "Epoch 143/150\n",
      "13/13 [==============================] - 0s 6ms/step - loss: 0.0281 - accuracy: 0.9927 - val_loss: 0.0136 - val_accuracy: 0.9903\n",
      "Epoch 144/150\n",
      "13/13 [==============================] - 0s 6ms/step - loss: 0.0127 - accuracy: 0.9978 - val_loss: 0.0136 - val_accuracy: 0.9903\n",
      "Epoch 145/150\n",
      "13/13 [==============================] - 0s 6ms/step - loss: 0.0168 - accuracy: 0.9968 - val_loss: 0.0142 - val_accuracy: 0.9903\n",
      "Epoch 146/150\n",
      "13/13 [==============================] - 0s 7ms/step - loss: 0.0110 - accuracy: 0.9985 - val_loss: 0.0142 - val_accuracy: 0.9903\n",
      "Epoch 147/150\n",
      "13/13 [==============================] - 0s 6ms/step - loss: 0.0692 - accuracy: 0.9814 - val_loss: 0.0134 - val_accuracy: 0.9903\n",
      "Epoch 148/150\n",
      "13/13 [==============================] - 0s 8ms/step - loss: 0.0105 - accuracy: 0.9984 - val_loss: 0.0122 - val_accuracy: 0.9903\n",
      "Epoch 149/150\n",
      "13/13 [==============================] - 0s 8ms/step - loss: 0.0252 - accuracy: 0.9891 - val_loss: 0.0114 - val_accuracy: 0.9903\n",
      "Epoch 150/150\n",
      "13/13 [==============================] - 0s 6ms/step - loss: 0.0135 - accuracy: 0.9985 - val_loss: 0.0108 - val_accuracy: 0.9903\n"
     ]
    }
   ],
   "source": [
    "history = classifier.fit(x_train, y_train, batch_size=32, epochs=150, validation_split = 0.2)"
   ]
  },
  {
   "cell_type": "markdown",
   "id": "0dc09636",
   "metadata": {},
   "source": [
    "## 7. Predicciones"
   ]
  },
  {
   "cell_type": "code",
   "execution_count": 11,
   "id": "ec93a59e",
   "metadata": {},
   "outputs": [],
   "source": [
    "# Predicting the Test set results\n",
    "y_pred = classifier.predict(x_test)\n",
    "#y_pred = (y_pred > 0.5)\n",
    "y_pred[y_pred > 0.5] = 1\n",
    "y_pred[y_pred <=0.5] = 0"
   ]
  },
  {
   "cell_type": "markdown",
   "id": "9da61439",
   "metadata": {},
   "source": [
    "## 8. Matriz de confusión"
   ]
  },
  {
   "cell_type": "code",
   "execution_count": 12,
   "id": "3646ae2d",
   "metadata": {},
   "outputs": [],
   "source": [
    "cm = confusion_matrix(y_test, y_pred)"
   ]
  },
  {
   "cell_type": "code",
   "execution_count": 13,
   "id": "16514688",
   "metadata": {},
   "outputs": [
    {
     "name": "stdout",
     "output_type": "stream",
     "text": [
      "Our accuracy is 100.0%\n"
     ]
    }
   ],
   "source": [
    "print(\"Our accuracy is {}%\".format(((cm[0][0] + cm[1][1])/y_test.shape[0])*100))"
   ]
  },
  {
   "cell_type": "code",
   "execution_count": 14,
   "id": "003e1ae7",
   "metadata": {},
   "outputs": [
    {
     "data": {
      "image/png": "[encoded data removed]",
      "text/plain": [
       "<Figure size 432x288 with 2 Axes>"
      ]
     },
     "metadata": {
      "needs_background": "light"
     },
     "output_type": "display_data"
    }
   ],
   "source": [
    "sns.heatmap(cm,annot=True)\n",
    "plt.savefig('h.png')"
   ]
  },
  {
   "cell_type": "markdown",
   "id": "c660599b",
   "metadata": {},
   "source": [
    "## 9. Evaluación del modelo"
   ]
  },
  {
   "cell_type": "code",
   "execution_count": 15,
   "id": "a038721a",
   "metadata": {},
   "outputs": [],
   "source": [
    "def plot_metric(history, metric):\n",
    "    train_metrics = history.history[metric]\n",
    "    val_metrics = history.history['val_'+metric]\n",
    "    epochs = range(1, len(train_metrics) + 1)\n",
    "    plt.plot(epochs, train_metrics, 'bo--')\n",
    "    plt.plot(epochs, val_metrics, 'ro-')\n",
    "    plt.title('Entrenamiento y validación '+ metric)\n",
    "    plt.xlabel(\"Epochs\")\n",
    "    plt.ylabel(metric)\n",
    "    plt.legend([\"train_\"+metric, 'val_'+metric])\n",
    "    plt.show()"
   ]
  },
  {
   "cell_type": "code",
   "execution_count": 16,
   "id": "17cf3dec",
   "metadata": {},
   "outputs": [
    {
     "data": {
      "image/png": "[encoded data removed]",
      "text/plain": [
       "<Figure size 432x288 with 1 Axes>"
      ]
     },
     "metadata": {
      "needs_background": "light"
     },
     "output_type": "display_data"
    }
   ],
   "source": [
    "plot_metric(history, 'loss')"
   ]
  },
  {
   "cell_type": "code",
   "execution_count": 17,
   "id": "98743bd2",
   "metadata": {},
   "outputs": [
    {
     "data": {
      "image/png": "[encoded data removed]",
      "text/plain": [
       "<Figure size 432x288 with 1 Axes>"
      ]
     },
     "metadata": {
      "needs_background": "light"
     },
     "output_type": "display_data"
    }
   ],
   "source": [
    "plot_metric(history, 'accuracy')"
   ]
  }
 ],
 "metadata": {
  "kernelspec": {
   "display_name": "Python 3",
   "language": "python",
   "name": "python3"
  },
  "language_info": {
   "codemirror_mode": {
    "name": "ipython",
    "version": 3
   },
   "file_extension": ".py",
   "mimetype": "text/x-python",
   "name": "python",
   "nbconvert_exporter": "python",
   "pygments_lexer": "ipython3",
   "version": "3.8.8"
  }
 },
 "nbformat": 4,
 "nbformat_minor": 5
}
